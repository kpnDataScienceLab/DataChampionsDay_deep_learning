{
 "cells": [
  {
   "cell_type": "code",
   "execution_count": 1,
   "metadata": {
    "nbpresent": {
     "id": "294e12ac-d028-402f-8cf0-2e5eaa336e4a"
    },
    "slideshow": {
     "slide_type": "skip"
    }
   },
   "outputs": [
    {
     "data": {
      "text/html": [
       "<link rel=\"stylesheet\" type=\"text/css\" href=\"//fonts.googleapis.com/css?family=Quicksand:300\" />\n",
       "<link rel=\"stylesheet\" type=\"text/css\" href=\"custom.css\">"
      ],
      "text/plain": [
       "<IPython.core.display.HTML object>"
      ]
     },
     "metadata": {},
     "output_type": "display_data"
    }
   ],
   "source": [
    "%%HTML\n",
    "<link rel=\"stylesheet\" type=\"text/css\" href=\"//fonts.googleapis.com/css?family=Quicksand:300\" />\n",
    "<link rel=\"stylesheet\" type=\"text/css\" href=\"custom.css\">"
   ]
  },
  {
   "cell_type": "markdown",
   "metadata": {
    "nbpresent": {
     "id": "a3242aa4-047d-43a7-9773-a9fe5bbd3cfd"
    },
    "slideshow": {
     "slide_type": "slide"
    }
   },
   "source": [
    "# Basic neural net: theory\n",
    "![art_neuron](images/artificial_neuron.jpg)\n",
    "Source: https://www.slideshare.net/RukshanBatuwita/deep-learning-towards-general-artificial-intelligence"
   ]
  },
  {
   "cell_type": "markdown",
   "metadata": {
    "nbpresent": {
     "id": "7db64d19-dc23-4bb4-9d19-517544c3157c"
    },
    "slideshow": {
     "slide_type": "slide"
    }
   },
   "source": [
    "# Basic neural net: theory\n",
    "![art_neuron](images/perceptron.jpg)\n",
    "Source: https://www.slideshare.net/RukshanBatuwita/deep-learning-towards-general-artificial-intelligence"
   ]
  },
  {
   "cell_type": "markdown",
   "metadata": {
    "nbpresent": {
     "id": "b614f394-c893-4f49-a562-badee32f2e62"
    },
    "slideshow": {
     "slide_type": "slide"
    }
   },
   "source": [
    "# Basic neural net: theory\n",
    "![mlp](images/mlp.jpg)\n",
    "Source: https://www.slideshare.net/RukshanBatuwita/deep-learning-towards-general-artificial-intelligence"
   ]
  },
  {
   "cell_type": "markdown",
   "metadata": {
    "nbpresent": {
     "id": "038ca87c-3e47-42a5-9bb8-6a0d772a6bc3"
    },
    "slideshow": {
     "slide_type": "slide"
    }
   },
   "source": [
    "# Basic neural net: theory\n",
    "![backprop](images/backprop.jpg)\n",
    "Source: https://www.slideshare.net/RukshanBatuwita/deep-learning-towards-general-artificial-intelligence"
   ]
  }
 ],
 "metadata": {
  "celltoolbar": "Slideshow",
  "kernelspec": {
   "display_name": "Python 3",
   "language": "python",
   "name": "python3"
  },
  "language_info": {
   "codemirror_mode": {
    "name": "ipython",
    "version": 3
   },
   "file_extension": ".py",
   "mimetype": "text/x-python",
   "name": "python",
   "nbconvert_exporter": "python",
   "pygments_lexer": "ipython3",
   "version": "3.5.2"
  },
  "nbpresent": {
   "slides": {
    "598eaad5-4467-42e2-8821-d0b1327d8ace": {
     "id": "598eaad5-4467-42e2-8821-d0b1327d8ace",
     "prev": "c7ae5972-2c37-4f72-ae4e-31910fe4a9be",
     "regions": {
      "47c6b368-9e30-4cb4-a9f0-47b4cfabb0db": {
       "attrs": {
        "height": 0.8,
        "width": 0.8,
        "x": 0.1,
        "y": 0.1
       },
       "content": {
        "cell": "b614f394-c893-4f49-a562-badee32f2e62",
        "part": "whole"
       },
       "id": "47c6b368-9e30-4cb4-a9f0-47b4cfabb0db"
      }
     }
    },
    "7e9459ba-fa11-4d2d-9bac-d64862ed9991": {
     "id": "7e9459ba-fa11-4d2d-9bac-d64862ed9991",
     "prev": null,
     "regions": {
      "0f0777df-5273-468e-89c0-8a001231d1b4": {
       "attrs": {
        "height": 0.8,
        "width": 0.8,
        "x": 0.1,
        "y": 0.1
       },
       "content": {
        "cell": "294e12ac-d028-402f-8cf0-2e5eaa336e4a",
        "part": "whole"
       },
       "id": "0f0777df-5273-468e-89c0-8a001231d1b4"
      }
     }
    },
    "bca4e72b-d6ae-4882-80ab-2ca9a9443057": {
     "id": "bca4e72b-d6ae-4882-80ab-2ca9a9443057",
     "prev": "598eaad5-4467-42e2-8821-d0b1327d8ace",
     "regions": {
      "e5d6f79f-2aa6-4f15-a787-a2798e38f507": {
       "attrs": {
        "height": 0.8,
        "width": 0.8,
        "x": 0.1,
        "y": 0.1
       },
       "content": {
        "cell": "038ca87c-3e47-42a5-9bb8-6a0d772a6bc3",
        "part": "whole"
       },
       "id": "e5d6f79f-2aa6-4f15-a787-a2798e38f507"
      }
     }
    },
    "c7ae5972-2c37-4f72-ae4e-31910fe4a9be": {
     "id": "c7ae5972-2c37-4f72-ae4e-31910fe4a9be",
     "prev": "f76b5542-c614-4611-873d-26ff17c88d7b",
     "regions": {
      "5cd8d9d3-d6fc-4464-8b14-eb5a230dc944": {
       "attrs": {
        "height": 0.8,
        "width": 0.8,
        "x": 0.1,
        "y": 0.1
       },
       "content": {
        "cell": "7db64d19-dc23-4bb4-9d19-517544c3157c",
        "part": "whole"
       },
       "id": "5cd8d9d3-d6fc-4464-8b14-eb5a230dc944"
      }
     }
    },
    "f76b5542-c614-4611-873d-26ff17c88d7b": {
     "id": "f76b5542-c614-4611-873d-26ff17c88d7b",
     "prev": "7e9459ba-fa11-4d2d-9bac-d64862ed9991",
     "regions": {
      "6d991c24-d92c-4ed0-87a4-08e3dbb7193a": {
       "attrs": {
        "height": 0.8,
        "width": 0.8,
        "x": 0.1,
        "y": 0.1
       },
       "content": {
        "cell": "a3242aa4-047d-43a7-9773-a9fe5bbd3cfd",
        "part": "whole"
       },
       "id": "6d991c24-d92c-4ed0-87a4-08e3dbb7193a"
      }
     }
    }
   },
   "themes": {}
  }
 },
 "nbformat": 4,
 "nbformat_minor": 2
}
