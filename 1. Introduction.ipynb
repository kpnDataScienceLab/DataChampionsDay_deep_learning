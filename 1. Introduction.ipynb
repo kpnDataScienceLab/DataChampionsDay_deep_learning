{
 "cells": [
  {
   "cell_type": "code",
   "execution_count": 1,
   "metadata": {
    "slideshow": {
     "slide_type": "skip"
    }
   },
   "outputs": [
    {
     "data": {
      "text/html": [
       "<link rel=\"stylesheet\" type=\"text/css\" href=\"//fonts.googleapis.com/css?family=Quicksand:300\" />\n",
       "<link rel=\"stylesheet\" type=\"text/css\" href=\"custom.css\">"
      ],
      "text/plain": [
       "<IPython.core.display.HTML object>"
      ]
     },
     "metadata": {},
     "output_type": "display_data"
    }
   ],
   "source": [
    "%%HTML\n",
    "<link rel=\"stylesheet\" type=\"text/css\" href=\"//fonts.googleapis.com/css?family=Quicksand:300\" />\n",
    "<link rel=\"stylesheet\" type=\"text/css\" href=\"custom.css\">"
   ]
  },
  {
   "cell_type": "markdown",
   "metadata": {
    "nbpresent": {
     "id": "770c5e0d-32c5-4f2e-94b5-2a6ea3aaff07"
    },
    "slideshow": {
     "slide_type": "slide"
    }
   },
   "source": [
    "# Introduction to Deep Learning\n",
    "\n",
    "- Maria Vechtomova\n",
    "- 29 jun 2018\n",
    "\n",
    "![footer_logo](images/KPN-Logo.svg.png)"
   ]
  },
  {
   "cell_type": "markdown",
   "metadata": {
    "nbpresent": {
     "id": "84f4cbd6-3d0d-48c3-8fea-8bf2535054f3"
    },
    "slideshow": {
     "slide_type": "slide"
    }
   },
   "source": [
    "# About me\n",
    "\n",
    "- Proudly part of Data Science Lab and Text Analytics group\n",
    "- Work at KPN for 4,5 years\n",
    "- Main focus on automating ML and text analytics\n",
    "- Constantly learning new things\n",
    "- Enthusiastic to help other people to learn\n",
    "\n",
    "![footer_logo](images/KPN-Logo.svg.png)"
   ]
  },
  {
   "cell_type": "markdown",
   "metadata": {
    "slideshow": {
     "slide_type": "slide"
    }
   },
   "source": [
    "# What are we going to learn about?\n",
    "\n",
    "1. Deep learning FAQ\n",
    "\n",
    "2. Neural networks theory & build your own basic neural network\n",
    "\n",
    "3. Convolutional neural networks theory & build your own CNN for image recognition\n",
    "\n",
    "4. CNN application for text classification\n",
    "\n",
    "![footer_logo](images/KPN-Logo.svg.png)"
   ]
  },
  {
   "cell_type": "markdown",
   "metadata": {
    "slideshow": {
     "slide_type": "slide"
    }
   },
   "source": [
    "# Deep learning FAQ\n",
    "\n",
    "- What is deep learning? Why is it so popular?\n",
    "- History of deep learning\n",
    "- Heroes of deep learning\n",
    "- Main tools & algorithms\n",
    "- When to use deep learning and when not?\n",
    "- How to get started with deep learning?\n",
    "\n",
    "![footer_logo](images/KPN-Logo.svg.png)"
   ]
  },
  {
   "cell_type": "markdown",
   "metadata": {
    "slideshow": {
     "slide_type": "slide"
    }
   },
   "source": [
    "# What is deep learning? Why is it so popular?\n",
    "\n",
    "- Deep learning is a subset of machine learning (which is a subset of AI) that uses multi-layered artificial neural networks to deliver state-of-the-art accuracy in tasks such as object detection, speech recognition, language translation and others.\n",
    "![ai_ml_dl](images/Deep_Learning_Icons_R5_PNG.jpg.png)\n",
    " Source: https://developer.nvidia.com/deep-learning\n"
   ]
  },
  {
   "cell_type": "markdown",
   "metadata": {},
   "source": [
    "# What is deep learning? Why is it so popular?\n",
    "- Deep learning can automatically learn representations from complex data such as images, video or text, without introducing hand-coded rules or human domain knowledge.\n",
    "![ml_vs_dl](images/ml_vs_dl.jpg)\n",
    "Source: https://www.slideshare.net/RukshanBatuwita/deep-learning-towards-general-artificial-intelligence"
   ]
  },
  {
   "cell_type": "markdown",
   "metadata": {
    "slideshow": {
     "slide_type": "slide"
    }
   },
   "source": [
    "# What is deep learning? Why is it so popular?\n",
    "\n",
    "- Predictive accuracy of deep learning models grows when provided with more data\n",
    "\n",
    "![ai_ml_dl](images/Why-Deep-Learning-1024x742.png)\n",
    "Source: slides from Andrew Ng"
   ]
  },
  {
   "cell_type": "markdown",
   "metadata": {
    "slideshow": {
     "slide_type": "slide"
    }
   },
   "source": [
    "# History of deep learning\n",
    "\n",
    "![ai_ml_dl](images/history_deep_learning.png)"
   ]
  },
  {
   "cell_type": "markdown",
   "metadata": {
    "slideshow": {
     "slide_type": "slide"
    }
   },
   "source": [
    "# Heroes of deep learning\n",
    "See: https://www.youtube.com/playlist?list=PLfsVAYSMwsksjfpy8P2t_I52mugGeA5gR\n",
    "![ai_ml_dl](images/deep_learning_heroes.png)\n",
    "        "
   ]
  },
  {
   "cell_type": "markdown",
   "metadata": {
    "slideshow": {
     "slide_type": "slide"
    }
   },
   "source": [
    "# Main tools & algorithms\n",
    "![nn_coll](images/neural_networks_collection.png)\n",
    "Source: https://leonardoaraujosantos.gitbooks.io/artificial-inteligence/content/neural_networks.html"
   ]
  },
  {
   "cell_type": "markdown",
   "metadata": {
    "slideshow": {
     "slide_type": "slide"
    }
   },
   "source": [
    "# Main tools & algorithms\n",
    "![dl-frameworks](images/deep-learning-developer-frameworks.jpg)"
   ]
  },
  {
   "cell_type": "markdown",
   "metadata": {
    "slideshow": {
     "slide_type": "slide"
    }
   },
   "source": [
    "# Main tools & algorithms\n",
    "![popularity](images/search_interest_dl.jpg)"
   ]
  },
  {
   "cell_type": "markdown",
   "metadata": {
    "slideshow": {
     "slide_type": "slide"
    }
   },
   "source": [
    "# When to use deep learning and when (typically) not?\n",
    "\n",
    "| Classical ML | Deep Learning |\n",
    "| :--- | :--- |\n",
    "| 1. Structured data | 1. Large amount of unstructured data (video/ audio/ text/ image)| \n",
    "| 2. Feature engineering is straightforward | 2. Feature engineering is complex |\n",
    "| 3. Simple and explainable | 3. When better accuracy is preferred over explainability |\n"
   ]
  },
  {
   "cell_type": "markdown",
   "metadata": {
    "slideshow": {
     "slide_type": "slide"
    }
   },
   "source": [
    "# How to get started with deep learning?\n",
    "- **Andrew NG's Deep Learning specialization on Coursera**\n",
    "- **Udacity Deep Learning Nanodegree**\n",
    "- **Stanford University courses:**\n",
    "    - CS231n: Convolutional Neural Networks for Visual Recognition\n",
    "    - CS224d: Deep Learning for Natural Language Processing\n",
    "    - CS20: Tensorflow for Deep Learning Research\n",
    "- **Blogs:**\n",
    "    - Brandon Rohrer, researcher at Facebook: https://brohrer.github.io/\n",
    "    - Andrej Karpathy, AI director at Tesla: http://karpathy.github.io/, https://medium.com/@karpathy\n",
    "    - Denny Britz, researcher at Google: http://www.wildml.com/\n",
    "    - Christopher Olah, researcher at Google: http://colah.github.io/\n",
    "- ** Books:**\n",
    "    - Deep Learning by Aaron Courville, Ian Goodfellow, Yoshua Bengio\n",
    "    - Machine Learning Yearning by Andrew Ng: http://www.mlyearning.org/\n",
    "    \n",
    "And there is much much more..."
   ]
  }
 ],
 "metadata": {
  "celltoolbar": "Slideshow",
  "kernelspec": {
   "display_name": "Python 3",
   "language": "python",
   "name": "python3"
  },
  "language_info": {
   "codemirror_mode": {
    "name": "ipython",
    "version": 3
   },
   "file_extension": ".py",
   "mimetype": "text/x-python",
   "name": "python",
   "nbconvert_exporter": "python",
   "pygments_lexer": "ipython3",
   "version": "3.5.2"
  },
  "nbpresent": {
   "slides": {
    "b5ea6832-814b-4369-932a-83c592e24e01": {
     "id": "b5ea6832-814b-4369-932a-83c592e24e01",
     "prev": "eb439e95-f602-402c-a86b-424f16af794d",
     "regions": {
      "9f64b0e0-375d-441e-8c96-85a5b830c061": {
       "attrs": {
        "height": 0.8,
        "width": 0.8,
        "x": 0.1,
        "y": 0.1
       },
       "content": {
        "cell": "84f4cbd6-3d0d-48c3-8fea-8bf2535054f3",
        "part": "source"
       },
       "id": "9f64b0e0-375d-441e-8c96-85a5b830c061"
      }
     }
    },
    "eb439e95-f602-402c-a86b-424f16af794d": {
     "id": "eb439e95-f602-402c-a86b-424f16af794d",
     "prev": null,
     "regions": {
      "48a999f6-e0a4-41a5-ab77-85fc4308d007": {
       "attrs": {
        "height": 0.8,
        "width": 0.8,
        "x": 0.1,
        "y": 0.1
       },
       "content": {
        "cell": "770c5e0d-32c5-4f2e-94b5-2a6ea3aaff07",
        "part": "whole"
       },
       "id": "48a999f6-e0a4-41a5-ab77-85fc4308d007"
      }
     }
    }
   },
   "themes": {}
  }
 },
 "nbformat": 4,
 "nbformat_minor": 2
}
